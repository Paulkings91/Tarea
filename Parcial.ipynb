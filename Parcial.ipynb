{
  "nbformat": 4,
  "nbformat_minor": 0,
  "metadata": {
    "colab": {
      "provenance": [],
      "authorship_tag": "ABX9TyOWFaipJoXY2AMt1dnGe7Mc",
      "include_colab_link": true
    },
    "kernelspec": {
      "name": "python3",
      "display_name": "Python 3"
    },
    "language_info": {
      "name": "python"
    }
  },
  "cells": [
    {
      "cell_type": "markdown",
      "metadata": {
        "id": "view-in-github",
        "colab_type": "text"
      },
      "source": [
        "<a href=\"https://colab.research.google.com/github/Paulkings91/Tarea/blob/main/Parcial.ipynb\" target=\"_parent\"><img src=\"https://colab.research.google.com/assets/colab-badge.svg\" alt=\"Open In Colab\"/></a>"
      ]
    },
    {
      "cell_type": "code",
      "execution_count": 1,
      "metadata": {
        "id": "h01JS7nU0HI9"
      },
      "outputs": [],
      "source": [
        "import tabulate"
      ]
    },
    {
      "cell_type": "markdown",
      "source": [
        "En este ejercico queremos calcular el precio total de cada producto, según la cantidad requerida"
      ],
      "metadata": {
        "id": "guY9acDO3VZj"
      }
    },
    {
      "cell_type": "code",
      "source": [
        "Productos = {'Martillo':20, 'Triplay':9.5, 'Cemento Andino':30, 'Cemento Sol':28}\n",
        "producto = input('¿Qué producto quieres? ').title()\n",
        "\n",
        "Cant = float(input('¿Cantidad? '))\n",
        "\n",
        "if producto in Productos:\n",
        "    print(Cant, 'unidades', producto, 'valen', Productos[producto]*Cant, 'Soles')\n",
        "else:\n",
        "    print(\"Lo siento, el producto\", producto, \"no está disponible.\")\n"
      ],
      "metadata": {
        "colab": {
          "base_uri": "https://localhost:8080/"
        },
        "id": "ui0INNeV0bQs",
        "outputId": "9dc58c4a-c23e-43d7-8084-3b10ccdb5d5c"
      },
      "execution_count": 6,
      "outputs": [
        {
          "output_type": "stream",
          "name": "stdout",
          "text": [
            "¿Qué producto quieres? arena\n",
            "¿Cantidad? 4\n",
            "Lo siento, el producto Arena no está disponible.\n"
          ]
        }
      ]
    }
  ]
}